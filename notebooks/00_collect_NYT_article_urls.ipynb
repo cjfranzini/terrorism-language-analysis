{
 "cells": [
  {
   "cell_type": "markdown",
   "metadata": {},
   "source": [
    "# Use Requests to Get Article URLs\n",
    "This notebook queries the New York Time's [Article Search API](http://developer.nytimes.com/article_search_v2.json) for articles containing the word \"terror\" and gathers the article URLs."
   ]
  },
  {
   "cell_type": "code",
   "execution_count": null,
   "metadata": {
    "ExecuteTime": {
     "end_time": "2017-05-23T18:01:27.856898Z",
     "start_time": "2017-05-23T18:01:26.530108Z"
    },
    "collapsed": true
   },
   "outputs": [],
   "source": [
    "import json\n",
    "import requests\n",
    "import time\n",
    "import pickle"
   ]
  },
  {
   "cell_type": "code",
   "execution_count": null,
   "metadata": {
    "ExecuteTime": {
     "end_time": "2017-05-23T18:01:31.748595Z",
     "start_time": "2017-05-23T18:01:31.572350Z"
    },
    "collapsed": true
   },
   "outputs": [],
   "source": [
    "def get_request(query):\n",
    "    r = requests.get('https://api.nytimes.com/svc/search/v2/articlesearch.json?{0}&api-key={1}'.format(query,API_key))\n",
    "    time.sleep(1)\n",
    "    \n",
    "    return json.loads(r.text)\n",
    "\n",
    "\n",
    "def get_paginated_request(query,hits):\n",
    "    results = {}\n",
    "    for page in range(1, int(np.ceil(hits/10)) + 1):\n",
    "        try:\n",
    "            query += '&page={}'.format(page)\n",
    "            r = requests.get('https://api.nytimes.com/svc/search/v2/articlesearch.json?{0}&api-key={1}'.format(query,API_key))\n",
    "            time.sleep(5)\n",
    "\n",
    "            results[page] = json.loads(r.text)\n",
    "        except:\n",
    "            pass\n",
    "        \n",
    "    return results\n",
    "\n",
    "\n",
    "def collect_urls(results):\n",
    "    urls = []\n",
    "\n",
    "    for page in results.keys():\n",
    "        try:\n",
    "            for doc in results[page]['response']['docs']:\n",
    "                if doc['source'] == 'The New York Times':\n",
    "                    urls.append(doc['web_url']) \n",
    "        except:\n",
    "            pass\n",
    "        \n",
    "    return urls\n",
    "\n",
    "\n",
    "def query_year(year,term):\n",
    "    query = 'q={0}&begin_date={1}0101&end_date={1}1231'.format(term,year)\n",
    "    hits = get_request(query)['response']['meta']['hits']\n",
    "    page_results = get_paginated_request(query,hits)\n",
    "    urls = collect_urls(page_results)\n",
    "    pickle.dump(urls, open('../data/pickle_jar/{0}_{1}_urls.p'.format(year,term),'wb'))\n",
    "    \n",
    "    return None"
   ]
  },
  {
   "cell_type": "markdown",
   "metadata": {},
   "source": [
    "### Query API for articles and collect URLs"
   ]
  },
  {
   "cell_type": "code",
   "execution_count": null,
   "metadata": {
    "ExecuteTime": {
     "end_time": "2017-05-22T18:18:31.666148Z",
     "start_time": "2017-05-22T18:06:41.850520Z"
    },
    "collapsed": true
   },
   "outputs": [],
   "source": [
    "for year in range(1993,2018):\n",
    "    query_year(year,'terror')"
   ]
  }
 ],
 "metadata": {
  "kernelspec": {
   "display_name": "Python 3",
   "language": "python",
   "name": "python3"
  },
  "language_info": {
   "codemirror_mode": {
    "name": "ipython",
    "version": 3
   },
   "file_extension": ".py",
   "mimetype": "text/x-python",
   "name": "python",
   "nbconvert_exporter": "python",
   "pygments_lexer": "ipython3",
   "version": "3.6.1"
  },
  "latex_envs": {
   "LaTeX_envs_menu_present": true,
   "autocomplete": true,
   "bibliofile": "biblio.bib",
   "cite_by": "apalike",
   "current_citInitial": 1,
   "eqLabelWithNumbers": true,
   "eqNumInitial": 1,
   "hotkeys": {
    "equation": "Ctrl-E",
    "itemize": "Ctrl-I"
   },
   "labels_anchors": false,
   "latex_user_defs": false,
   "report_style_numbering": false,
   "user_envs_cfg": false
  },
  "varInspector": {
   "cols": {
    "lenName": 16,
    "lenType": 16,
    "lenVar": 40
   },
   "kernels_config": {
    "python": {
     "delete_cmd_postfix": "",
     "delete_cmd_prefix": "del ",
     "library": "var_list.py",
     "varRefreshCmd": "print(var_dic_list())"
    },
    "r": {
     "delete_cmd_postfix": ") ",
     "delete_cmd_prefix": "rm(",
     "library": "var_list.r",
     "varRefreshCmd": "cat(var_dic_list()) "
    }
   },
   "types_to_exclude": [
    "module",
    "function",
    "builtin_function_or_method",
    "instance",
    "_Feature"
   ],
   "window_display": false
  }
 },
 "nbformat": 4,
 "nbformat_minor": 2
}
