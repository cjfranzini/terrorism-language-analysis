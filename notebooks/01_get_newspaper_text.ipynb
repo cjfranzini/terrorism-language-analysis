{
 "cells": [
  {
   "cell_type": "markdown",
   "metadata": {},
   "source": [
    "# Use Newspaper to Get Article Text\n",
    "This notebook uses [Newspaper](http://newspaper.readthedocs.io/en/latest/) to collect the text of the articles using the URLs from the previous notebook."
   ]
  },
  {
   "cell_type": "code",
   "execution_count": null,
   "metadata": {
    "ExecuteTime": {
     "end_time": "2017-05-23T22:43:40.658728Z",
     "start_time": "2017-05-23T22:43:40.654469Z"
    },
    "collapsed": true
   },
   "outputs": [],
   "source": [
    "import newspaper\n",
    "import pickle\n",
    "import time"
   ]
  },
  {
   "cell_type": "code",
   "execution_count": null,
   "metadata": {
    "ExecuteTime": {
     "end_time": "2017-05-23T20:18:45.594946Z",
     "start_time": "2017-05-23T20:18:45.565207Z"
    },
    "collapsed": true
   },
   "outputs": [],
   "source": [
    "def get_text(year):\n",
    "    \n",
    "    urls = pickle.load(open('../data/pickle_jar/{}_urls.p'.format(year),'rb'))\n",
    "    out = {}\n",
    "    \n",
    "    for i,url in enumerate(urls):\n",
    "        try:\n",
    "            article = newspaper.Article(url)\n",
    "            article.download()\n",
    "            article.parse()\n",
    "            out[i] = article.text\n",
    "            time.sleep(5)\n",
    "        except:\n",
    "            pass\n",
    "        \n",
    "    pickle.dump(out, open('../data/pickle_jar/shoot/{}_new_text.p'.format(year),'wb'))\n",
    "    \n",
    "    return True"
   ]
  },
  {
   "cell_type": "markdown",
   "metadata": {},
   "source": [
    "### Collect article text"
   ]
  },
  {
   "cell_type": "code",
   "execution_count": null,
   "metadata": {
    "collapsed": true
   },
   "outputs": [],
   "source": [
    "for year in range(1993,2018):\n",
    "    get_text(year)"
   ]
  }
 ],
 "metadata": {
  "kernelspec": {
   "display_name": "Python 3",
   "language": "python",
   "name": "python3"
  },
  "language_info": {
   "codemirror_mode": {
    "name": "ipython",
    "version": 3
   },
   "file_extension": ".py",
   "mimetype": "text/x-python",
   "name": "python",
   "nbconvert_exporter": "python",
   "pygments_lexer": "ipython3",
   "version": "3.6.1"
  },
  "latex_envs": {
   "LaTeX_envs_menu_present": true,
   "autocomplete": true,
   "bibliofile": "biblio.bib",
   "cite_by": "apalike",
   "current_citInitial": 1,
   "eqLabelWithNumbers": true,
   "eqNumInitial": 1,
   "hotkeys": {
    "equation": "Ctrl-E",
    "itemize": "Ctrl-I"
   },
   "labels_anchors": false,
   "latex_user_defs": false,
   "report_style_numbering": false,
   "user_envs_cfg": false
  },
  "varInspector": {
   "cols": {
    "lenName": 16,
    "lenType": 16,
    "lenVar": 40
   },
   "kernels_config": {
    "python": {
     "delete_cmd_postfix": "",
     "delete_cmd_prefix": "del ",
     "library": "var_list.py",
     "varRefreshCmd": "print(var_dic_list())"
    },
    "r": {
     "delete_cmd_postfix": ") ",
     "delete_cmd_prefix": "rm(",
     "library": "var_list.r",
     "varRefreshCmd": "cat(var_dic_list()) "
    }
   },
   "types_to_exclude": [
    "module",
    "function",
    "builtin_function_or_method",
    "instance",
    "_Feature"
   ],
   "window_display": false
  }
 },
 "nbformat": 4,
 "nbformat_minor": 2
}
