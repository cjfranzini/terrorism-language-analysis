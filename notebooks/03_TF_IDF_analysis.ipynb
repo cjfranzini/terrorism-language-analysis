{
 "cells": [
  {
   "cell_type": "markdown",
   "metadata": {},
   "source": [
    "# Term Frequency-Inverse Document Frequency (tf-idf) Analysis\n",
    "This notebook calculates the tf-idf value for all stems in the corpus, both overall and by year, and plots a few significant stems by year."
   ]
  },
  {
   "cell_type": "code",
   "execution_count": 1,
   "metadata": {
    "ExecuteTime": {
     "end_time": "2017-05-27T21:00:19.310419Z",
     "start_time": "2017-05-27T21:00:16.279482Z"
    }
   },
   "outputs": [
    {
     "name": "stdout",
     "output_type": "stream",
     "text": [
      "Populating the interactive namespace from numpy and matplotlib\n"
     ]
    }
   ],
   "source": [
    "import pickle\n",
    "import pandas as pd\n",
    "\n",
    "from sklearn.feature_extraction.text import TfidfVectorizer\n",
    "from nltk.stem.snowball import SnowballStemmer\n",
    "\n",
    "%pylab inline\n",
    "plt.style.use('ggplot')"
   ]
  },
  {
   "cell_type": "code",
   "execution_count": 2,
   "metadata": {
    "ExecuteTime": {
     "end_time": "2017-05-27T21:01:10.935728Z",
     "start_time": "2017-05-27T21:01:10.755000Z"
    },
    "collapsed": true
   },
   "outputs": [],
   "source": [
    "def generalize_fun(corpus, lambda_fun):\n",
    "    # must handle a list of lists (tokenized docs) and also a simple list\n",
    "    \n",
    "    if isinstance(corpus[0], list):\n",
    "        # list of lists\n",
    "        corpus = map(lambda_fun, corpus)\n",
    "    else:\n",
    "        # single list\n",
    "        corpus = lambda_fun(corpus)\n",
    "        \n",
    "    return list(corpus)\n",
    "\n",
    "\n",
    "def stem(corpus):\n",
    "    # perform stemming\n",
    "    stemmer = SnowballStemmer('english')\n",
    "    stemmer_fun = lambda x: list(map(stemmer.stem, x))\n",
    "\n",
    "    corpus = generalize_fun(corpus, stemmer_fun)\n",
    "    new_corpus = []\n",
    "    for corp in corpus:\n",
    "        new_corpus.append(' '.join(corp))\n",
    "    \n",
    "    return new_corpus\n",
    "\n",
    "\n",
    "def tf_idf_by_year(corpus,output='dataframe'):\n",
    "    \n",
    "    stemmed_text = stem(corpus)\n",
    "    \n",
    "    tf = TfidfVectorizer(stop_words='english')\n",
    "\n",
    "    X = tf.fit_transform(stemmed_text).toarray()\n",
    "    \n",
    "    df = pd.DataFrame(X, columns=tf.get_feature_names())\n",
    "                      \n",
    "    if output == 'list':\n",
    "        return df.mean(axis=0).sort_values(ascending=False).head(40)\n",
    "    elif output == 'dataframe':\n",
    "        return df\n",
    "    else:\n",
    "        return None\n",
    "\n",
    "\n",
    "def tf_idf_all(corpus,output='list'):\n",
    "    \n",
    "    all_text = []\n",
    "    \n",
    "    for _,v in corpus.items():\n",
    "        stemmed_text = stem(v)\n",
    "        all_text += stemmed_text\n",
    "    \n",
    "    tf = TfidfVectorizer(stop_words='english')\n",
    "\n",
    "    X = tf.fit_transform(all_text).toarray()\n",
    "    \n",
    "    df = pd.DataFrame(X, columns=tf.get_feature_names())\n",
    "    \n",
    "    if output == 'list':\n",
    "        return df.mean(axis=0).sort_values(ascending=False).head(40)\n",
    "    elif output == 'dataframe':\n",
    "        return df\n",
    "    else:\n",
    "        return None"
   ]
  },
  {
   "cell_type": "markdown",
   "metadata": {},
   "source": [
    "### Instantiate stemmer"
   ]
  },
  {
   "cell_type": "code",
   "execution_count": 3,
   "metadata": {
    "ExecuteTime": {
     "end_time": "2017-05-27T21:01:31.700497Z",
     "start_time": "2017-05-27T21:01:31.685533Z"
    },
    "collapsed": true
   },
   "outputs": [],
   "source": [
    "stemmer = SnowballStemmer(\"english\")"
   ]
  },
  {
   "cell_type": "markdown",
   "metadata": {},
   "source": [
    "### Load in corpus"
   ]
  },
  {
   "cell_type": "code",
   "execution_count": 4,
   "metadata": {
    "ExecuteTime": {
     "end_time": "2017-05-27T21:01:33.597286Z",
     "start_time": "2017-05-27T21:01:32.721040Z"
    },
    "collapsed": true,
    "run_control": {
     "marked": false
    }
   },
   "outputs": [],
   "source": [
    "corpus_ads = pickle.load(open('../data/pickle_jar/corpus_ads_1.p','rb'))"
   ]
  },
  {
   "cell_type": "markdown",
   "metadata": {},
   "source": [
    "### Build corpus dictionary by year"
   ]
  },
  {
   "cell_type": "code",
   "execution_count": 5,
   "metadata": {
    "ExecuteTime": {
     "end_time": "2017-05-27T21:01:37.392590Z",
     "start_time": "2017-05-27T21:01:37.208760Z"
    },
    "collapsed": true
   },
   "outputs": [],
   "source": [
    "ad_text = {k: [[x[0] for x in v[i]] for i in range(len(v))] for k,v in corpus_ads.items()} "
   ]
  },
  {
   "cell_type": "code",
   "execution_count": 6,
   "metadata": {
    "ExecuteTime": {
     "end_time": "2017-05-27T21:01:40.618264Z",
     "start_time": "2017-05-27T21:01:40.610073Z"
    }
   },
   "outputs": [
    {
     "data": {
      "text/plain": [
       "['federal',\n",
       " 'several',\n",
       " 'still',\n",
       " 'large',\n",
       " 'spectacular',\n",
       " 'islamic',\n",
       " 'radical',\n",
       " 'assassinate',\n",
       " 'political',\n",
       " 'federal']"
      ]
     },
     "execution_count": 6,
     "metadata": {},
     "output_type": "execute_result"
    }
   ],
   "source": [
    "# sample output of dictionary\n",
    "ad_text['1993'][0][:10]"
   ]
  },
  {
   "cell_type": "markdown",
   "metadata": {},
   "source": [
    "### Find most important stems from entire corpus"
   ]
  },
  {
   "cell_type": "code",
   "execution_count": 7,
   "metadata": {
    "ExecuteTime": {
     "end_time": "2017-05-27T21:02:46.632599Z",
     "start_time": "2017-05-27T21:01:43.477855Z"
    },
    "collapsed": true
   },
   "outputs": [],
   "source": [
    "all_tfidf_list = tf_idf_all(ad_text,output='list')"
   ]
  },
  {
   "cell_type": "code",
   "execution_count": 8,
   "metadata": {
    "ExecuteTime": {
     "end_time": "2017-05-27T21:03:13.943570Z",
     "start_time": "2017-05-27T21:03:13.916476Z"
    }
   },
   "outputs": [
    {
     "data": {
      "text/plain": [
       "militari       0.026794\n",
       "mani           0.024509\n",
       "feder          0.021858\n",
       "isra           0.021607\n",
       "polit          0.019888\n",
       "palestinian    0.019220\n",
       "nation         0.018840\n",
       "public         0.018153\n",
       "white          0.016465\n",
       "islam          0.016430\n",
       "dtype: float64"
      ]
     },
     "execution_count": 8,
     "metadata": {},
     "output_type": "execute_result"
    }
   ],
   "source": [
    "# top ten stems\n",
    "all_tfidf_list[:10]"
   ]
  },
  {
   "cell_type": "markdown",
   "metadata": {},
   "source": [
    "### Create dataframe of tf-idf values for entire corpus"
   ]
  },
  {
   "cell_type": "code",
   "execution_count": 9,
   "metadata": {
    "ExecuteTime": {
     "end_time": "2017-05-27T21:03:59.120136Z",
     "start_time": "2017-05-27T21:03:17.770369Z"
    },
    "collapsed": true
   },
   "outputs": [],
   "source": [
    "all_tfidf_df = tf_idf_all(ad_text,output='dataframe')"
   ]
  },
  {
   "cell_type": "markdown",
   "metadata": {},
   "source": [
    "### Create dataframes of tf-idf values by year"
   ]
  },
  {
   "cell_type": "code",
   "execution_count": 10,
   "metadata": {
    "ExecuteTime": {
     "end_time": "2017-05-27T21:05:04.316630Z",
     "start_time": "2017-05-27T21:04:20.365440Z"
    },
    "collapsed": true
   },
   "outputs": [],
   "source": [
    "df_dict = {k: tf_idf_by_year(v) for k,v in ad_text.items()}"
   ]
  },
  {
   "cell_type": "code",
   "execution_count": 11,
   "metadata": {
    "ExecuteTime": {
     "end_time": "2017-05-27T21:05:26.526118Z",
     "start_time": "2017-05-27T21:05:26.463493Z"
    }
   },
   "outputs": [
    {
     "data": {
      "text/html": [
       "<div>\n",
       "<style>\n",
       "    .dataframe thead tr:only-child th {\n",
       "        text-align: right;\n",
       "    }\n",
       "\n",
       "    .dataframe thead th {\n",
       "        text-align: left;\n",
       "    }\n",
       "\n",
       "    .dataframe tbody tr th {\n",
       "        vertical-align: top;\n",
       "    }\n",
       "</style>\n",
       "<table border=\"1\" class=\"dataframe\">\n",
       "  <thead>\n",
       "    <tr style=\"text-align: right;\">\n",
       "      <th></th>\n",
       "      <th>aba</th>\n",
       "      <th>abandon</th>\n",
       "      <th>abas</th>\n",
       "      <th>abbott</th>\n",
       "      <th>abc</th>\n",
       "      <th>abd</th>\n",
       "      <th>abdel</th>\n",
       "      <th>abdelgani</th>\n",
       "      <th>abdesalam</th>\n",
       "      <th>abdomin</th>\n",
       "      <th>...</th>\n",
       "      <th>yugoslavia</th>\n",
       "      <th>zaillian</th>\n",
       "      <th>zair</th>\n",
       "      <th>zaleski</th>\n",
       "      <th>zealous</th>\n",
       "      <th>zen</th>\n",
       "      <th>zepc</th>\n",
       "      <th>zombi</th>\n",
       "      <th>zoolog</th>\n",
       "      <th>zulu</th>\n",
       "    </tr>\n",
       "  </thead>\n",
       "  <tbody>\n",
       "    <tr>\n",
       "      <th>0</th>\n",
       "      <td>0.0</td>\n",
       "      <td>0.0</td>\n",
       "      <td>0.0</td>\n",
       "      <td>0.0</td>\n",
       "      <td>0.0</td>\n",
       "      <td>0.0</td>\n",
       "      <td>0.0</td>\n",
       "      <td>0.0</td>\n",
       "      <td>0.0</td>\n",
       "      <td>0.0</td>\n",
       "      <td>...</td>\n",
       "      <td>0.0</td>\n",
       "      <td>0.0</td>\n",
       "      <td>0.0</td>\n",
       "      <td>0.0</td>\n",
       "      <td>0.0</td>\n",
       "      <td>0.0</td>\n",
       "      <td>0.0</td>\n",
       "      <td>0.0</td>\n",
       "      <td>0.0</td>\n",
       "      <td>0.0</td>\n",
       "    </tr>\n",
       "    <tr>\n",
       "      <th>1</th>\n",
       "      <td>0.0</td>\n",
       "      <td>0.0</td>\n",
       "      <td>0.0</td>\n",
       "      <td>0.0</td>\n",
       "      <td>0.0</td>\n",
       "      <td>0.0</td>\n",
       "      <td>0.0</td>\n",
       "      <td>0.0</td>\n",
       "      <td>0.0</td>\n",
       "      <td>0.0</td>\n",
       "      <td>...</td>\n",
       "      <td>0.0</td>\n",
       "      <td>0.0</td>\n",
       "      <td>0.0</td>\n",
       "      <td>0.0</td>\n",
       "      <td>0.0</td>\n",
       "      <td>0.0</td>\n",
       "      <td>0.0</td>\n",
       "      <td>0.0</td>\n",
       "      <td>0.0</td>\n",
       "      <td>0.0</td>\n",
       "    </tr>\n",
       "    <tr>\n",
       "      <th>2</th>\n",
       "      <td>0.0</td>\n",
       "      <td>0.0</td>\n",
       "      <td>0.0</td>\n",
       "      <td>0.0</td>\n",
       "      <td>0.0</td>\n",
       "      <td>0.0</td>\n",
       "      <td>0.0</td>\n",
       "      <td>0.0</td>\n",
       "      <td>0.0</td>\n",
       "      <td>0.0</td>\n",
       "      <td>...</td>\n",
       "      <td>0.0</td>\n",
       "      <td>0.0</td>\n",
       "      <td>0.0</td>\n",
       "      <td>0.0</td>\n",
       "      <td>0.0</td>\n",
       "      <td>0.0</td>\n",
       "      <td>0.0</td>\n",
       "      <td>0.0</td>\n",
       "      <td>0.0</td>\n",
       "      <td>0.0</td>\n",
       "    </tr>\n",
       "    <tr>\n",
       "      <th>3</th>\n",
       "      <td>0.0</td>\n",
       "      <td>0.0</td>\n",
       "      <td>0.0</td>\n",
       "      <td>0.0</td>\n",
       "      <td>0.0</td>\n",
       "      <td>0.0</td>\n",
       "      <td>0.0</td>\n",
       "      <td>0.0</td>\n",
       "      <td>0.0</td>\n",
       "      <td>0.0</td>\n",
       "      <td>...</td>\n",
       "      <td>0.0</td>\n",
       "      <td>0.0</td>\n",
       "      <td>0.0</td>\n",
       "      <td>0.0</td>\n",
       "      <td>0.0</td>\n",
       "      <td>0.0</td>\n",
       "      <td>0.0</td>\n",
       "      <td>0.0</td>\n",
       "      <td>0.0</td>\n",
       "      <td>0.0</td>\n",
       "    </tr>\n",
       "    <tr>\n",
       "      <th>4</th>\n",
       "      <td>0.0</td>\n",
       "      <td>0.0</td>\n",
       "      <td>0.0</td>\n",
       "      <td>0.0</td>\n",
       "      <td>0.0</td>\n",
       "      <td>0.0</td>\n",
       "      <td>0.0</td>\n",
       "      <td>0.0</td>\n",
       "      <td>0.0</td>\n",
       "      <td>0.0</td>\n",
       "      <td>...</td>\n",
       "      <td>0.0</td>\n",
       "      <td>0.0</td>\n",
       "      <td>0.0</td>\n",
       "      <td>0.0</td>\n",
       "      <td>0.0</td>\n",
       "      <td>0.0</td>\n",
       "      <td>0.0</td>\n",
       "      <td>0.0</td>\n",
       "      <td>0.0</td>\n",
       "      <td>0.0</td>\n",
       "    </tr>\n",
       "  </tbody>\n",
       "</table>\n",
       "<p>5 rows × 7292 columns</p>\n",
       "</div>"
      ],
      "text/plain": [
       "   aba  abandon  abas  abbott  abc  abd  abdel  abdelgani  abdesalam  abdomin  \\\n",
       "0  0.0      0.0   0.0     0.0  0.0  0.0    0.0        0.0        0.0      0.0   \n",
       "1  0.0      0.0   0.0     0.0  0.0  0.0    0.0        0.0        0.0      0.0   \n",
       "2  0.0      0.0   0.0     0.0  0.0  0.0    0.0        0.0        0.0      0.0   \n",
       "3  0.0      0.0   0.0     0.0  0.0  0.0    0.0        0.0        0.0      0.0   \n",
       "4  0.0      0.0   0.0     0.0  0.0  0.0    0.0        0.0        0.0      0.0   \n",
       "\n",
       "   ...   yugoslavia  zaillian  zair  zaleski  zealous  zen  zepc  zombi  \\\n",
       "0  ...          0.0       0.0   0.0      0.0      0.0  0.0   0.0    0.0   \n",
       "1  ...          0.0       0.0   0.0      0.0      0.0  0.0   0.0    0.0   \n",
       "2  ...          0.0       0.0   0.0      0.0      0.0  0.0   0.0    0.0   \n",
       "3  ...          0.0       0.0   0.0      0.0      0.0  0.0   0.0    0.0   \n",
       "4  ...          0.0       0.0   0.0      0.0      0.0  0.0   0.0    0.0   \n",
       "\n",
       "   zoolog  zulu  \n",
       "0     0.0   0.0  \n",
       "1     0.0   0.0  \n",
       "2     0.0   0.0  \n",
       "3     0.0   0.0  \n",
       "4     0.0   0.0  \n",
       "\n",
       "[5 rows x 7292 columns]"
      ]
     },
     "execution_count": 11,
     "metadata": {},
     "output_type": "execute_result"
    }
   ],
   "source": [
    "# sample of yearly tf-idf dataframe\n",
    "df_dict['1993'].head()"
   ]
  },
  {
   "cell_type": "markdown",
   "metadata": {},
   "source": [
    "### Build dictionary of tf-idf values by year for top-40 stems from entire corpus"
   ]
  },
  {
   "cell_type": "code",
   "execution_count": 12,
   "metadata": {
    "ExecuteTime": {
     "end_time": "2017-05-27T21:05:32.917784Z",
     "start_time": "2017-05-27T21:05:31.875325Z"
    },
    "collapsed": true,
    "run_control": {
     "marked": false
    }
   },
   "outputs": [],
   "source": [
    "yearly_t40_values = {}\n",
    "\n",
    "for k,v in df_dict.items():\n",
    "    yearly_t40_values[k] = {word: v.loc[:,word].mean() if word in v.columns else 0 for word in list(all_tfidf_list.index)}"
   ]
  },
  {
   "cell_type": "code",
   "execution_count": 32,
   "metadata": {
    "ExecuteTime": {
     "end_time": "2017-05-27T21:11:30.668767Z",
     "start_time": "2017-05-27T21:11:30.660195Z"
    }
   },
   "outputs": [
    {
     "data": {
      "text/plain": [
       "{'british': 0.010236556896899245,\n",
       " 'bush': 0.0053144474115025021,\n",
       " 'clear': 0.014648694248343691,\n",
       " 'far': 0.015313629409100362,\n",
       " 'feder': 0.023828018554881186,\n",
       " 'foreign': 0.01572822883726447,\n",
       " 'general': 0.016110517495368838,\n",
       " 'good': 0.013846224286809946,\n",
       " 'high': 0.01376666540182105,\n",
       " 'human': 0.017299969311415583,\n",
       " 'intern': 0.020829722137397665,\n",
       " 'iraq': 0.0048067004665819256,\n",
       " 'islam': 0.015551344961875348,\n",
       " 'isra': 0.021468236188349622,\n",
       " 'israel': 0.011351403431853492,\n",
       " 'ist': 0.006522504872544431,\n",
       " 'laden': 0.0015226338494544803,\n",
       " 'larg': 0.012282396738918625,\n",
       " 'later': 0.013291884744552351,\n",
       " 'legal': 0.0080186078005851542,\n",
       " 'littl': 0.014228645253961064,\n",
       " 'long': 0.019566898507307456,\n",
       " 'mani': 0.029400731096933828,\n",
       " 'militari': 0.032768858035658467,\n",
       " 'nation': 0.018179684566301865,\n",
       " 'old': 0.023072852154549617,\n",
       " 'palestinian': 0.015394064289526105,\n",
       " 'polit': 0.029042834969763547,\n",
       " 'possibl': 0.011030778963860214,\n",
       " 'public': 0.01794193013478516,\n",
       " 'qaeda': 0,\n",
       " 'real': 0.012213101936036828,\n",
       " 'recent': 0.017755719221020108,\n",
       " 'republican': 0.0067666972140928341,\n",
       " 'right': 0.016160902945857696,\n",
       " 'senior': 0.012311675477158529,\n",
       " 'sever': 0.017620880638261331,\n",
       " 'west': 0.012682676196228319,\n",
       " 'white': 0.01364040998865737,\n",
       " 'young': 0.014817969883728677}"
      ]
     },
     "execution_count": 32,
     "metadata": {},
     "output_type": "execute_result"
    }
   ],
   "source": [
    "# sample output\n",
    "yearly_t40_values['1993']"
   ]
  },
  {
   "cell_type": "markdown",
   "metadata": {},
   "source": [
    "### Convert top-40 dictionary to dataframe"
   ]
  },
  {
   "cell_type": "code",
   "execution_count": 19,
   "metadata": {
    "ExecuteTime": {
     "end_time": "2017-05-27T21:07:19.947980Z",
     "start_time": "2017-05-27T21:07:19.938409Z"
    },
    "collapsed": true
   },
   "outputs": [],
   "source": [
    "t40_df = pd.DataFrame.from_dict(yearly_t40_values,orient='index')"
   ]
  },
  {
   "cell_type": "code",
   "execution_count": 20,
   "metadata": {
    "ExecuteTime": {
     "end_time": "2017-05-27T21:07:29.553803Z",
     "start_time": "2017-05-27T21:07:29.544139Z"
    }
   },
   "outputs": [],
   "source": [
    "t40_df.reset_index(inplace=True)\n",
    "t40_df.rename(columns={'index':'year'},inplace=True)"
   ]
  },
  {
   "cell_type": "code",
   "execution_count": 21,
   "metadata": {
    "ExecuteTime": {
     "end_time": "2017-05-27T21:07:32.848907Z",
     "start_time": "2017-05-27T21:07:32.796549Z"
    }
   },
   "outputs": [
    {
     "data": {
      "text/html": [
       "<div>\n",
       "<style>\n",
       "    .dataframe thead tr:only-child th {\n",
       "        text-align: right;\n",
       "    }\n",
       "\n",
       "    .dataframe thead th {\n",
       "        text-align: left;\n",
       "    }\n",
       "\n",
       "    .dataframe tbody tr th {\n",
       "        vertical-align: top;\n",
       "    }\n",
       "</style>\n",
       "<table border=\"1\" class=\"dataframe\">\n",
       "  <thead>\n",
       "    <tr style=\"text-align: right;\">\n",
       "      <th></th>\n",
       "      <th>year</th>\n",
       "      <th>militari</th>\n",
       "      <th>mani</th>\n",
       "      <th>feder</th>\n",
       "      <th>isra</th>\n",
       "      <th>polit</th>\n",
       "      <th>palestinian</th>\n",
       "      <th>nation</th>\n",
       "      <th>public</th>\n",
       "      <th>white</th>\n",
       "      <th>...</th>\n",
       "      <th>later</th>\n",
       "      <th>qaeda</th>\n",
       "      <th>possibl</th>\n",
       "      <th>young</th>\n",
       "      <th>british</th>\n",
       "      <th>real</th>\n",
       "      <th>west</th>\n",
       "      <th>larg</th>\n",
       "      <th>legal</th>\n",
       "      <th>senior</th>\n",
       "    </tr>\n",
       "  </thead>\n",
       "  <tbody>\n",
       "    <tr>\n",
       "      <th>0</th>\n",
       "      <td>1993</td>\n",
       "      <td>0.032769</td>\n",
       "      <td>0.029401</td>\n",
       "      <td>0.023828</td>\n",
       "      <td>0.021468</td>\n",
       "      <td>0.029043</td>\n",
       "      <td>0.015394</td>\n",
       "      <td>0.018180</td>\n",
       "      <td>0.017942</td>\n",
       "      <td>0.013640</td>\n",
       "      <td>...</td>\n",
       "      <td>0.013292</td>\n",
       "      <td>0.0</td>\n",
       "      <td>0.011031</td>\n",
       "      <td>0.014818</td>\n",
       "      <td>0.010237</td>\n",
       "      <td>0.012213</td>\n",
       "      <td>0.012683</td>\n",
       "      <td>0.012282</td>\n",
       "      <td>0.008019</td>\n",
       "      <td>0.012312</td>\n",
       "    </tr>\n",
       "    <tr>\n",
       "      <th>1</th>\n",
       "      <td>1994</td>\n",
       "      <td>0.035033</td>\n",
       "      <td>0.031347</td>\n",
       "      <td>0.013789</td>\n",
       "      <td>0.030060</td>\n",
       "      <td>0.029132</td>\n",
       "      <td>0.021189</td>\n",
       "      <td>0.017089</td>\n",
       "      <td>0.017577</td>\n",
       "      <td>0.016214</td>\n",
       "      <td>...</td>\n",
       "      <td>0.013693</td>\n",
       "      <td>0.0</td>\n",
       "      <td>0.009674</td>\n",
       "      <td>0.015918</td>\n",
       "      <td>0.013037</td>\n",
       "      <td>0.010788</td>\n",
       "      <td>0.014880</td>\n",
       "      <td>0.013752</td>\n",
       "      <td>0.007037</td>\n",
       "      <td>0.008506</td>\n",
       "    </tr>\n",
       "    <tr>\n",
       "      <th>2</th>\n",
       "      <td>1995</td>\n",
       "      <td>0.022689</td>\n",
       "      <td>0.029232</td>\n",
       "      <td>0.039677</td>\n",
       "      <td>0.028441</td>\n",
       "      <td>0.022367</td>\n",
       "      <td>0.023235</td>\n",
       "      <td>0.015206</td>\n",
       "      <td>0.015214</td>\n",
       "      <td>0.017493</td>\n",
       "      <td>...</td>\n",
       "      <td>0.014365</td>\n",
       "      <td>0.0</td>\n",
       "      <td>0.012033</td>\n",
       "      <td>0.013431</td>\n",
       "      <td>0.004842</td>\n",
       "      <td>0.009886</td>\n",
       "      <td>0.016759</td>\n",
       "      <td>0.011644</td>\n",
       "      <td>0.008777</td>\n",
       "      <td>0.008575</td>\n",
       "    </tr>\n",
       "    <tr>\n",
       "      <th>3</th>\n",
       "      <td>1996</td>\n",
       "      <td>0.020537</td>\n",
       "      <td>0.031020</td>\n",
       "      <td>0.025944</td>\n",
       "      <td>0.041605</td>\n",
       "      <td>0.021650</td>\n",
       "      <td>0.029639</td>\n",
       "      <td>0.016775</td>\n",
       "      <td>0.015694</td>\n",
       "      <td>0.016145</td>\n",
       "      <td>...</td>\n",
       "      <td>0.014813</td>\n",
       "      <td>0.0</td>\n",
       "      <td>0.011018</td>\n",
       "      <td>0.013660</td>\n",
       "      <td>0.007559</td>\n",
       "      <td>0.013023</td>\n",
       "      <td>0.015639</td>\n",
       "      <td>0.011514</td>\n",
       "      <td>0.008218</td>\n",
       "      <td>0.008103</td>\n",
       "    </tr>\n",
       "    <tr>\n",
       "      <th>4</th>\n",
       "      <td>1997</td>\n",
       "      <td>0.020388</td>\n",
       "      <td>0.031124</td>\n",
       "      <td>0.013812</td>\n",
       "      <td>0.056275</td>\n",
       "      <td>0.026087</td>\n",
       "      <td>0.048769</td>\n",
       "      <td>0.014570</td>\n",
       "      <td>0.018413</td>\n",
       "      <td>0.016026</td>\n",
       "      <td>...</td>\n",
       "      <td>0.015779</td>\n",
       "      <td>0.0</td>\n",
       "      <td>0.010242</td>\n",
       "      <td>0.017634</td>\n",
       "      <td>0.010878</td>\n",
       "      <td>0.011077</td>\n",
       "      <td>0.016086</td>\n",
       "      <td>0.012556</td>\n",
       "      <td>0.008632</td>\n",
       "      <td>0.010434</td>\n",
       "    </tr>\n",
       "  </tbody>\n",
       "</table>\n",
       "<p>5 rows × 41 columns</p>\n",
       "</div>"
      ],
      "text/plain": [
       "   year  militari      mani     feder      isra     polit  palestinian  \\\n",
       "0  1993  0.032769  0.029401  0.023828  0.021468  0.029043     0.015394   \n",
       "1  1994  0.035033  0.031347  0.013789  0.030060  0.029132     0.021189   \n",
       "2  1995  0.022689  0.029232  0.039677  0.028441  0.022367     0.023235   \n",
       "3  1996  0.020537  0.031020  0.025944  0.041605  0.021650     0.029639   \n",
       "4  1997  0.020388  0.031124  0.013812  0.056275  0.026087     0.048769   \n",
       "\n",
       "     nation    public     white    ...        later  qaeda   possibl  \\\n",
       "0  0.018180  0.017942  0.013640    ...     0.013292    0.0  0.011031   \n",
       "1  0.017089  0.017577  0.016214    ...     0.013693    0.0  0.009674   \n",
       "2  0.015206  0.015214  0.017493    ...     0.014365    0.0  0.012033   \n",
       "3  0.016775  0.015694  0.016145    ...     0.014813    0.0  0.011018   \n",
       "4  0.014570  0.018413  0.016026    ...     0.015779    0.0  0.010242   \n",
       "\n",
       "      young   british      real      west      larg     legal    senior  \n",
       "0  0.014818  0.010237  0.012213  0.012683  0.012282  0.008019  0.012312  \n",
       "1  0.015918  0.013037  0.010788  0.014880  0.013752  0.007037  0.008506  \n",
       "2  0.013431  0.004842  0.009886  0.016759  0.011644  0.008777  0.008575  \n",
       "3  0.013660  0.007559  0.013023  0.015639  0.011514  0.008218  0.008103  \n",
       "4  0.017634  0.010878  0.011077  0.016086  0.012556  0.008632  0.010434  \n",
       "\n",
       "[5 rows x 41 columns]"
      ]
     },
     "execution_count": 21,
     "metadata": {},
     "output_type": "execute_result"
    }
   ],
   "source": [
    "t40_df.head()"
   ]
  },
  {
   "cell_type": "markdown",
   "metadata": {},
   "source": [
    "### Plot select stems tf-idf values by year"
   ]
  },
  {
   "cell_type": "code",
   "execution_count": 28,
   "metadata": {
    "ExecuteTime": {
     "end_time": "2017-05-27T21:10:26.933975Z",
     "start_time": "2017-05-27T21:10:26.082138Z"
    },
    "scrolled": false
   },
   "outputs": [
    {
     "data": {
      "image/png": "[encoded data removed]",
      "text/plain": [
       "<matplotlib.figure.Figure at 0x124089748>"
      ]
     },
     "metadata": {},
     "output_type": "display_data"
    }
   ],
   "source": [
    "fig,ax = plt.subplots(figsize=(16,12))\n",
    "\n",
    "mask = ['militari','palestinian','islam','iraq','laden','qaeda']\n",
    "\n",
    "for col in t40_df[mask]:\n",
    "    \n",
    "    ax.fill_between(t40_df.year.apply(lambda x: int(x)),0,np.array(t40_df[col]),\n",
    "                    label='{} ({})'.format(col,list(all_tfidf_list.index).index(col) + 1),\n",
    "                    alpha=0.95)\n",
    "    \n",
    "\n",
    "ax.set(facecolor='white',\n",
    "      title='TF-IDF for Select Stems in New York Times Articles Addressing Terrorism (1993 to Present)',\n",
    "      xlabel='Year',\n",
    "      ylabel='tf-idf',\n",
    "      xlim=(1993,2017),\n",
    "      ylim=(0,0.085));\n",
    "\n",
    "ax.legend(loc='center left', \n",
    "            bbox_to_anchor=(1, 0.5),\n",
    "            fontsize=14,\n",
    "          facecolor='white',\n",
    "          edgecolor='white',\n",
    "          labelspacing=1\n",
    "         );\n",
    "\n",
    "ax.minorticks_on();\n",
    "ax.grid(which='major',axis='y',color='grey',alpha=0.35);\n",
    "\n",
    "for item in ([ax.xaxis.label, \n",
    "              ax.yaxis.label] +\n",
    "             ax.get_xticklabels() + ax.get_yticklabels()):\n",
    "    item.set_fontsize(18);\n",
    "    \n",
    "for item in ([ax.title]):\n",
    "    item.set_fontsize(20);"
   ]
  },
  {
   "cell_type": "code",
   "execution_count": null,
   "metadata": {
    "collapsed": true
   },
   "outputs": [],
   "source": []
  }
 ],
 "metadata": {
  "kernelspec": {
   "display_name": "Python 3",
   "language": "python",
   "name": "python3"
  },
  "language_info": {
   "codemirror_mode": {
    "name": "ipython",
    "version": 3
   },
   "file_extension": ".py",
   "mimetype": "text/x-python",
   "name": "python",
   "nbconvert_exporter": "python",
   "pygments_lexer": "ipython3",
   "version": "3.6.1"
  },
  "latex_envs": {
   "LaTeX_envs_menu_present": true,
   "autocomplete": true,
   "bibliofile": "biblio.bib",
   "cite_by": "apalike",
   "current_citInitial": 1,
   "eqLabelWithNumbers": true,
   "eqNumInitial": 1,
   "hotkeys": {
    "equation": "Ctrl-E",
    "itemize": "Ctrl-I"
   },
   "labels_anchors": false,
   "latex_user_defs": false,
   "report_style_numbering": false,
   "user_envs_cfg": false
  },
  "varInspector": {
   "cols": {
    "lenName": 16,
    "lenType": 16,
    "lenVar": 40
   },
   "kernels_config": {
    "python": {
     "delete_cmd_postfix": "",
     "delete_cmd_prefix": "del ",
     "library": "var_list.py",
     "varRefreshCmd": "print(var_dic_list())"
    },
    "r": {
     "delete_cmd_postfix": ") ",
     "delete_cmd_prefix": "rm(",
     "library": "var_list.r",
     "varRefreshCmd": "cat(var_dic_list()) "
    }
   },
   "types_to_exclude": [
    "module",
    "function",
    "builtin_function_or_method",
    "instance",
    "_Feature"
   ],
   "window_display": false
  }
 },
 "nbformat": 4,
 "nbformat_minor": 2
}
